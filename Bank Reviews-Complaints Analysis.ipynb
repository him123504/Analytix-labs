{
 "cells": [
  {
   "cell_type": "markdown",
   "metadata": {},
   "source": [
    "#                     Bank Reviews-Complaints Analysis"
   ]
  },
  {
   "cell_type": "markdown",
   "metadata": {},
   "source": [
    "## Business Objectives\n",
    "### Central banks collecting information about customer satisfaction with the services provided by different bank. Also collects the information about the complaints.\n",
    "\n",
    "### The objective of the case study is to analyze customer reviews and predict customer satisfaction with the reviews"
   ]
  },
  {
   "cell_type": "markdown",
   "metadata": {},
   "source": [
    "**Data processing**<br>\n",
    "Key positive words/negative words (most frequent words)<br>\n",
    "Classification of reviews into positive, negative and neutral<br>\n",
    "Identify key themes of problems (using clustering, topic models)<br>\n",
    "Predicting star ratings using reviews.<br>\n",
    "Perform intent analysis<br>\n"
   ]
  },
  {
   "cell_type": "markdown",
   "metadata": {},
   "source": [
    " **Dataset**<br>\n",
    "The data is a detailed dump of customer reviews/complaints (~500) of different services at different banks<br>\n",
    "\n",
    "Date (Day the review was posted)<br>\n",
    "Stars (1–5 rating for the business)<br>\n",
    "text (Review text)\n",
    "bank name"
   ]
  },
  {
   "cell_type": "markdown",
   "metadata": {},
   "source": [
    "**Import necesssary libraries**"
   ]
  },
  {
   "cell_type": "code",
   "execution_count": 3,
   "metadata": {},
   "outputs": [],
   "source": [
    "import seaborn as sns\n",
    "import pandas as pd\n",
    "import numpy as np\n",
    "import matplotlib.pyplot as plt\n",
    "%matplotlib inline\n",
    "import string\n",
    "import nltk\n",
    "from nltk.stem import WordNetLemmatizer\n",
    "from sklearn.model_selection import train_test_split\n",
    "from sklearn.feature_extraction.text import CountVectorizer,TfidfTransformer,TfidfVectorizer\n",
    "from textblob import TextBlob\n",
    "from wordcloud import WordCloud, STOPWORDS\n",
    "from sklearn.decomposition import LatentDirichletAllocation\n",
    "from sklearn.naive_bayes import MultinomialNB\n",
    "from sklearn import metrics\n",
    "import nltk\n",
    "from nltk.corpus import wordnet"
   ]
  },
  {
   "cell_type": "markdown",
   "metadata": {},
   "source": [
    "**Import the data set**"
   ]
  },
  {
   "cell_type": "code",
   "execution_count": 4,
   "metadata": {},
   "outputs": [],
   "source": [
    "data=pd.read_excel(\"BankReviews.xlsx\")"
   ]
  },
  {
   "cell_type": "code",
   "execution_count": 5,
   "metadata": {},
   "outputs": [
    {
     "data": {
      "text/html": [
       "<div>\n",
       "<style scoped>\n",
       "    .dataframe tbody tr th:only-of-type {\n",
       "        vertical-align: middle;\n",
       "    }\n",
       "\n",
       "    .dataframe tbody tr th {\n",
       "        vertical-align: top;\n",
       "    }\n",
       "\n",
       "    .dataframe thead th {\n",
       "        text-align: right;\n",
       "    }\n",
       "</style>\n",
       "<table border=\"1\" class=\"dataframe\">\n",
       "  <thead>\n",
       "    <tr style=\"text-align: right;\">\n",
       "      <th></th>\n",
       "      <th>Date</th>\n",
       "      <th>Stars</th>\n",
       "      <th>Reviews</th>\n",
       "      <th>BankName</th>\n",
       "    </tr>\n",
       "  </thead>\n",
       "  <tbody>\n",
       "    <tr>\n",
       "      <td>0</td>\n",
       "      <td>2017-04-10</td>\n",
       "      <td>5</td>\n",
       "      <td>Great job, Wyndham Capital! Each person was pr...</td>\n",
       "      <td>Wyndham Capital Mortgage</td>\n",
       "    </tr>\n",
       "    <tr>\n",
       "      <td>1</td>\n",
       "      <td>2017-02-10</td>\n",
       "      <td>5</td>\n",
       "      <td>Matthew Richardson is professional and helpful...</td>\n",
       "      <td>Wyndham Capital Mortgage</td>\n",
       "    </tr>\n",
       "    <tr>\n",
       "      <td>2</td>\n",
       "      <td>2017-08-21</td>\n",
       "      <td>5</td>\n",
       "      <td>We had a past experience with Wyndham Mortgage...</td>\n",
       "      <td>Wyndham Capital Mortgage</td>\n",
       "    </tr>\n",
       "    <tr>\n",
       "      <td>3</td>\n",
       "      <td>2017-12-17</td>\n",
       "      <td>5</td>\n",
       "      <td>We have been dealing with Brad Thomka from the...</td>\n",
       "      <td>Wyndham Capital Mortgage</td>\n",
       "    </tr>\n",
       "    <tr>\n",
       "      <td>4</td>\n",
       "      <td>2016-05-27</td>\n",
       "      <td>5</td>\n",
       "      <td>I can't express how grateful I am for the supp...</td>\n",
       "      <td>Wyndham Capital Mortgage</td>\n",
       "    </tr>\n",
       "  </tbody>\n",
       "</table>\n",
       "</div>"
      ],
      "text/plain": [
       "        Date  Stars                                            Reviews  \\\n",
       "0 2017-04-10      5  Great job, Wyndham Capital! Each person was pr...   \n",
       "1 2017-02-10      5  Matthew Richardson is professional and helpful...   \n",
       "2 2017-08-21      5  We had a past experience with Wyndham Mortgage...   \n",
       "3 2017-12-17      5  We have been dealing with Brad Thomka from the...   \n",
       "4 2016-05-27      5  I can't express how grateful I am for the supp...   \n",
       "\n",
       "                   BankName  \n",
       "0  Wyndham Capital Mortgage  \n",
       "1  Wyndham Capital Mortgage  \n",
       "2  Wyndham Capital Mortgage  \n",
       "3  Wyndham Capital Mortgage  \n",
       "4  Wyndham Capital Mortgage  "
      ]
     },
     "execution_count": 5,
     "metadata": {},
     "output_type": "execute_result"
    }
   ],
   "source": [
    "data.head()"
   ]
  },
  {
   "cell_type": "markdown",
   "metadata": {},
   "source": [
    "**Data Audit**"
   ]
  },
  {
   "cell_type": "code",
   "execution_count": 6,
   "metadata": {},
   "outputs": [
    {
     "name": "stdout",
     "output_type": "stream",
     "text": [
      "<class 'pandas.core.frame.DataFrame'>\n",
      "RangeIndex: 505 entries, 0 to 504\n",
      "Data columns (total 4 columns):\n",
      "Date        505 non-null datetime64[ns]\n",
      "Stars       505 non-null int64\n",
      "Reviews     505 non-null object\n",
      "BankName    505 non-null object\n",
      "dtypes: datetime64[ns](1), int64(1), object(2)\n",
      "memory usage: 15.9+ KB\n"
     ]
    }
   ],
   "source": [
    "data.info()"
   ]
  },
  {
   "cell_type": "code",
   "execution_count": 7,
   "metadata": {},
   "outputs": [
    {
     "data": {
      "text/plain": [
       "(505, 4)"
      ]
     },
     "execution_count": 7,
     "metadata": {},
     "output_type": "execute_result"
    }
   ],
   "source": [
    "data.shape"
   ]
  },
  {
   "cell_type": "code",
   "execution_count": 8,
   "metadata": {},
   "outputs": [
    {
     "data": {
      "text/plain": [
       "Date        0\n",
       "Stars       0\n",
       "Reviews     0\n",
       "BankName    0\n",
       "dtype: int64"
      ]
     },
     "execution_count": 8,
     "metadata": {},
     "output_type": "execute_result"
    }
   ],
   "source": [
    "data.isnull().sum()"
   ]
  },
  {
   "cell_type": "code",
   "execution_count": 9,
   "metadata": {},
   "outputs": [
    {
     "data": {
      "text/plain": [
       "5    410\n",
       "1     95\n",
       "Name: Stars, dtype: int64"
      ]
     },
     "execution_count": 9,
     "metadata": {},
     "output_type": "execute_result"
    }
   ],
   "source": [
    "data['Stars'].value_counts()"
   ]
  },
  {
   "cell_type": "code",
   "execution_count": 10,
   "metadata": {},
   "outputs": [
    {
     "data": {
      "image/png": "[encoded data removed]",
      "text/plain": [
       "<Figure size 576x432 with 1 Axes>"
      ]
     },
     "metadata": {
      "needs_background": "light"
     },
     "output_type": "display_data"
    }
   ],
   "source": [
    "plt.figure(figsize=(8,6))\n",
    "sns.countplot(data.Stars)\n",
    "plt.show()"
   ]
  },
  {
   "cell_type": "markdown",
   "metadata": {},
   "source": [
    "### Sentiment Analysis to find positive and negative reviews"
   ]
  },
  {
   "cell_type": "code",
   "execution_count": 11,
   "metadata": {},
   "outputs": [],
   "source": [
    "x = data['Reviews']\n",
    "y = data['Stars']"
   ]
  },
  {
   "cell_type": "code",
   "execution_count": 12,
   "metadata": {},
   "outputs": [
    {
     "data": {
      "text/plain": [
       "0    Great job, Wyndham Capital! Each person was pr...\n",
       "1    Matthew Richardson is professional and helpful...\n",
       "2    We had a past experience with Wyndham Mortgage...\n",
       "3    We have been dealing with Brad Thomka from the...\n",
       "4    I can't express how grateful I am for the supp...\n",
       "Name: Reviews, dtype: object"
      ]
     },
     "execution_count": 12,
     "metadata": {},
     "output_type": "execute_result"
    }
   ],
   "source": [
    "x.head()"
   ]
  },
  {
   "cell_type": "markdown",
   "metadata": {},
   "source": [
    "**Creating a use-rdefined function**"
   ]
  },
  {
   "cell_type": "code",
   "execution_count": 14,
   "metadata": {},
   "outputs": [],
   "source": [
    "def sentiment_review(text):\n",
    "    analysis = TextBlob(text)\n",
    "    polarity_text = analysis.sentiment.polarity\n",
    "    if polarity_text > 0:\n",
    "        return 'Positive'\n",
    "    elif polarity_text == 0:\n",
    "        return 'Neutral'\n",
    "    else:\n",
    "        return 'Negative'  "
   ]
  },
  {
   "cell_type": "markdown",
   "metadata": {},
   "source": [
    "**creating dictionary which will contain both the review and the sentiment of the review**"
   ]
  },
  {
   "cell_type": "code",
   "execution_count": 15,
   "metadata": {},
   "outputs": [
    {
     "name": "stdout",
     "output_type": "stream",
     "text": [
      "[{'Review': 'Great job, Wyndham Capital! Each person was professional and helped us move through our refinance process smoothly. Thank you!', 'Sentiment': 'Positive'}, {'Review': 'Matthew Richardson is professional and helpful. He helped us find the correct product for our mortgage. Thank you very much for the excellent service, Matthew!', 'Sentiment': 'Positive'}, {'Review': 'We had a past experience with Wyndham Mortgage and would without question use again and again if needed!! Wyndham went beyond the extra mile to not only right a wrong encountered from the servicer we were dealing on our previous loan, but they pulled together and found a viable option for us that ultimately saved us money. We would highly recommend Brad Thomka and the Wyndham Capital Mortgage team for your mortgage needs. Sincerest thanks Wyndham!! Ed & Lind', 'Sentiment': 'Negative'}, {'Review': 'We have been dealing with Brad Thomka from the beginning of what started out to be a very stressful time for us, but with the help from Brad and the entire Wyndham Mortgage team it was turned into a happy ending!! Brad and Wyndham went beyond the extra mile to not only right a wrong encountered from the servicer we were dealing on our previous loan, but they pulled\\xa0together and found a viable option for us that ultimately saved us money. We are indebted and would highly recommend Brad Thomka and the Wyndham Capital Mortgage team for your mortgage needs. Sincerest thanks Wyndham!! Ed & LindRead Less', 'Sentiment': 'Positive'}, {'Review': \"I can't express how grateful I am for the support that Zach provided to me and my family during this home purchase! His customer service, responsiveness and professional demeanor is second to none. He was very thorough and took the time to educate me about the process along the way. I highly recommend working with Zach and Wyndham Capital!\", 'Sentiment': 'Positive'}]\n"
     ]
    }
   ],
   "source": [
    "final_dictionary = []\n",
    "for text in x:\n",
    "    dictionary_sentiment = {}\n",
    "    dictionary_sentiment['Review'] = text\n",
    "    dictionary_sentiment['Sentiment'] = sentiment_review(text)\n",
    "    final_dictionary.append(dictionary_sentiment)\n",
    "print(final_dictionary[:5])"
   ]
  },
  {
   "cell_type": "markdown",
   "metadata": {},
   "source": [
    "**Finding positive reviews**"
   ]
  },
  {
   "cell_type": "code",
   "execution_count": 17,
   "metadata": {},
   "outputs": [
    {
     "name": "stdout",
     "output_type": "stream",
     "text": [
      "[{'Review': 'Great job, Wyndham Capital! Each person was professional and helped us move through our refinance process smoothly. Thank you!', 'Sentiment': 'Positive'}, {'Review': 'Matthew Richardson is professional and helpful. He helped us find the correct product for our mortgage. Thank you very much for the excellent service, Matthew!', 'Sentiment': 'Positive'}, {'Review': 'We have been dealing with Brad Thomka from the beginning of what started out to be a very stressful time for us, but with the help from Brad and the entire Wyndham Mortgage team it was turned into a happy ending!! Brad and Wyndham went beyond the extra mile to not only right a wrong encountered from the servicer we were dealing on our previous loan, but they pulled\\xa0together and found a viable option for us that ultimately saved us money. We are indebted and would highly recommend Brad Thomka and the Wyndham Capital Mortgage team for your mortgage needs. Sincerest thanks Wyndham!! Ed & LindRead Less', 'Sentiment': 'Positive'}, {'Review': \"I can't express how grateful I am for the support that Zach provided to me and my family during this home purchase! His customer service, responsiveness and professional demeanor is second to none. He was very thorough and took the time to educate me about the process along the way. I highly recommend working with Zach and Wyndham Capital!\", 'Sentiment': 'Positive'}, {'Review': 'I had the pleasure of working with Wyndham Capital in September 2018 as my family and I were making a home purchase in Columbus, OH. From the original conversation with the loan officer to underwriting and all the way through closing, the entire team from Wyndham was very responsive and professional. I was VERY impressed with how smooth their process was and how timely the communication was given how stressful of a process home buying (and selling) can be', 'Sentiment': 'Positive'}]\n"
     ]
    }
   ],
   "source": [
    "positive_reviews = []\n",
    "for review in final_dictionary:\n",
    "    if review['Sentiment'] =='Positive':\n",
    "        positive_reviews.append(review)\n",
    "print(positive_reviews[:5])"
   ]
  },
  {
   "cell_type": "markdown",
   "metadata": {},
   "source": [
    "**Finding neutral reviews**"
   ]
  },
  {
   "cell_type": "code",
   "execution_count": 18,
   "metadata": {},
   "outputs": [
    {
     "name": "stdout",
     "output_type": "stream",
     "text": [
      "[{'Review': '\\r\\nPerson with whom I spoke kept interrupting me and telling me his \"line\" rather than listening to what info I wanted. Quite pushy, altho\\' he said he wasn\\'t a salesman. Closing costs were astronomical.\\r\\n        ', 'Sentiment': 'Neutral'}, {'Review': '\\r\\nThe rate re-lock-in rule was not followed.\\r\\n        ', 'Sentiment': 'Neutral'}, {'Review': \"\\r\\nLending tree matching me up with companies that don't offer the product I requested.\\r\\n        \", 'Sentiment': 'Neutral'}, {'Review': '\\r\\nThey called me and asked about the city in NH that we where looking at and when I told him we might consider MA as well he hung up on me.\\r\\n        ', 'Sentiment': 'Neutral'}]\n"
     ]
    }
   ],
   "source": [
    "neutral_reviews = []\n",
    "for review in final_dictionary:\n",
    "    if review['Sentiment'] =='Neutral':\n",
    "        neutral_reviews.append(review)\n",
    "print(neutral_reviews[:5])"
   ]
  },
  {
   "cell_type": "markdown",
   "metadata": {},
   "source": [
    "**Finding negative reviews**"
   ]
  },
  {
   "cell_type": "code",
   "execution_count": 19,
   "metadata": {},
   "outputs": [
    {
     "name": "stdout",
     "output_type": "stream",
     "text": [
      "[{'Review': 'We had a past experience with Wyndham Mortgage and would without question use again and again if needed!! Wyndham went beyond the extra mile to not only right a wrong encountered from the servicer we were dealing on our previous loan, but they pulled together and found a viable option for us that ultimately saved us money. We would highly recommend Brad Thomka and the Wyndham Capital Mortgage team for your mortgage needs. Sincerest thanks Wyndham!! Ed & Lind', 'Sentiment': 'Negative'}, {'Review': 'This was the worst experience ever. It was like they had never gone through the process before. I could not get a complete list of the documents required. Every other day it was a new request. The appraiser that they hired made so many mistakes I had to send in corrections and then during the underwriting process they had to go back and make more corrections. Wyndum would continue to ask for copies of documents over and over again. There were many documents that I had to send 3 and 4 times because they \"lost\" them or was not filed correctly, we went through 4 different people through the process. I would NEVER use them. Awful experience!', 'Sentiment': 'Negative'}, {'Review': 'The closing process for a VA loan went smoothly. But the loan servicing by this so-called bank is a complete disaster. I set up our loan for automatic payments using their clunky website. Unlike other banks with which I do business, the NASB website is not intuitive and does not provide confirmation for your entries. For the first 10 months, payments were automatically debited from my external account as scheduled. However, when the escrow amount changed, NASB debited the old amount from my account and sent a deficiency letter for the balance -- unlike every other bank I have used in which the amount of the debit was automatically debited. NASB sent me a \"credit counseling letter\" telling me that they did not apply any of the loan payment and would charge me a late payment over double the deficiency of $40 and change .... and suggested credit counseling services. When I called their servicing department, the representative told me the letter was sent in error and that everything had been adjusted so my account was showing that it was current. Two weeks later, I received a total of two voice mail messages and an e-mail in a span of 20 minutes from NASB\\'s default department. The woman with whom I first spoke was rude, said she showed no record of my earlier call, it was my problem, and then hung up on me. The second agent, a man in their default department, said that he did not show that I had made any automatic payments and that NASB\\'s system was not set up to adjust anything. After having over 25 years of mortgage payments with various banks, I have never experienced such incompetence and rude service. I specifically instructed the last agent to request that they sell servicing of our loan to another bank that is capable of actually performing customer service for a veteran\\xa0', 'Sentiment': 'Negative'}, {'Review': 'Miserable experience. They screwed up everything imaginable and never accepted responsibility for any of their errors. I wouldnt recommend them for the purchase of a doghouse much less purchasing a new home.', 'Sentiment': 'Negative'}, {'Review': 'This Lender contacted my previous phone number which I did not list when registering with this site. Very unprofessional, and very disturbing.', 'Sentiment': 'Negative'}]\n"
     ]
    }
   ],
   "source": [
    "negative_reviews = []\n",
    "for review in final_dictionary:\n",
    "    if review['Sentiment'] =='Negative':\n",
    "        negative_reviews.append(review)\n",
    "print(negative_reviews[:5])"
   ]
  },
  {
   "cell_type": "markdown",
   "metadata": {},
   "source": [
    "**counting number of positive,neutral and negative reviews**"
   ]
  },
  {
   "cell_type": "code",
   "execution_count": 20,
   "metadata": {},
   "outputs": [],
   "source": [
    "reviews_count = pd.DataFrame([len(positive_reviews),len(neutral_reviews),len(negative_reviews)],index=['Positive','Neutral','Negative'])"
   ]
  },
  {
   "cell_type": "code",
   "execution_count": 21,
   "metadata": {},
   "outputs": [
    {
     "data": {
      "text/html": [
       "<div>\n",
       "<style scoped>\n",
       "    .dataframe tbody tr th:only-of-type {\n",
       "        vertical-align: middle;\n",
       "    }\n",
       "\n",
       "    .dataframe tbody tr th {\n",
       "        vertical-align: top;\n",
       "    }\n",
       "\n",
       "    .dataframe thead th {\n",
       "        text-align: right;\n",
       "    }\n",
       "</style>\n",
       "<table border=\"1\" class=\"dataframe\">\n",
       "  <thead>\n",
       "    <tr style=\"text-align: right;\">\n",
       "      <th></th>\n",
       "      <th>0</th>\n",
       "    </tr>\n",
       "  </thead>\n",
       "  <tbody>\n",
       "    <tr>\n",
       "      <td>Positive</td>\n",
       "      <td>466</td>\n",
       "    </tr>\n",
       "    <tr>\n",
       "      <td>Neutral</td>\n",
       "      <td>4</td>\n",
       "    </tr>\n",
       "    <tr>\n",
       "      <td>Negative</td>\n",
       "      <td>35</td>\n",
       "    </tr>\n",
       "  </tbody>\n",
       "</table>\n",
       "</div>"
      ],
      "text/plain": [
       "            0\n",
       "Positive  466\n",
       "Neutral     4\n",
       "Negative   35"
      ]
     },
     "execution_count": 21,
     "metadata": {},
     "output_type": "execute_result"
    }
   ],
   "source": [
    "reviews_count"
   ]
  },
  {
   "cell_type": "code",
   "execution_count": 22,
   "metadata": {},
   "outputs": [
    {
     "data": {
      "image/png": "[encoded data removed]",
      "text/plain": [
       "<Figure size 432x288 with 1 Axes>"
      ]
     },
     "metadata": {
      "needs_background": "light"
     },
     "output_type": "display_data"
    }
   ],
   "source": [
    "reviews_count.plot(kind='bar')\n",
    "plt.ylabel('Reviews Count')   \n",
    "plt.show()"
   ]
  },
  {
   "cell_type": "markdown",
   "metadata": {},
   "source": [
    "**printing first five positive reviews**"
   ]
  },
  {
   "cell_type": "code",
   "execution_count": 23,
   "metadata": {},
   "outputs": [
    {
     "name": "stdout",
     "output_type": "stream",
     "text": [
      "1\n",
      "Great job, Wyndham Capital! Each person was professional and helped us move through our refinance process smoothly. Thank you!\n",
      "******************************************************\n",
      "2\n",
      "Matthew Richardson is professional and helpful. He helped us find the correct product for our mortgage. Thank you very much for the excellent service, Matthew!\n",
      "******************************************************\n",
      "3\n",
      "We have been dealing with Brad Thomka from the beginning of what started out to be a very stressful time for us, but with the help from Brad and the entire Wyndham Mortgage team it was turned into a happy ending!! Brad and Wyndham went beyond the extra mile to not only right a wrong encountered from the servicer we were dealing on our previous loan, but they pulled together and found a viable option for us that ultimately saved us money. We are indebted and would highly recommend Brad Thomka and the Wyndham Capital Mortgage team for your mortgage needs. Sincerest thanks Wyndham!! Ed & LindRead Less\n",
      "******************************************************\n",
      "4\n",
      "I can't express how grateful I am for the support that Zach provided to me and my family during this home purchase! His customer service, responsiveness and professional demeanor is second to none. He was very thorough and took the time to educate me about the process along the way. I highly recommend working with Zach and Wyndham Capital!\n",
      "******************************************************\n",
      "5\n",
      "I had the pleasure of working with Wyndham Capital in September 2018 as my family and I were making a home purchase in Columbus, OH. From the original conversation with the loan officer to underwriting and all the way through closing, the entire team from Wyndham was very responsive and professional. I was VERY impressed with how smooth their process was and how timely the communication was given how stressful of a process home buying (and selling) can be\n",
      "******************************************************\n"
     ]
    }
   ],
   "source": [
    "i=1\n",
    "for review in positive_reviews[:5]:\n",
    "        print(i)\n",
    "        print(review['Review'])\n",
    "        print('******************************************************')\n",
    "        i+=1"
   ]
  },
  {
   "cell_type": "markdown",
   "metadata": {},
   "source": [
    "**printing first five negative reviews**"
   ]
  },
  {
   "cell_type": "code",
   "execution_count": 24,
   "metadata": {},
   "outputs": [
    {
     "name": "stdout",
     "output_type": "stream",
     "text": [
      "1\n",
      "We had a past experience with Wyndham Mortgage and would without question use again and again if needed!! Wyndham went beyond the extra mile to not only right a wrong encountered from the servicer we were dealing on our previous loan, but they pulled together and found a viable option for us that ultimately saved us money. We would highly recommend Brad Thomka and the Wyndham Capital Mortgage team for your mortgage needs. Sincerest thanks Wyndham!! Ed & Lind\n",
      "******************************************************\n",
      "2\n",
      "This was the worst experience ever. It was like they had never gone through the process before. I could not get a complete list of the documents required. Every other day it was a new request. The appraiser that they hired made so many mistakes I had to send in corrections and then during the underwriting process they had to go back and make more corrections. Wyndum would continue to ask for copies of documents over and over again. There were many documents that I had to send 3 and 4 times because they \"lost\" them or was not filed correctly, we went through 4 different people through the process. I would NEVER use them. Awful experience!\n",
      "******************************************************\n",
      "3\n",
      "The closing process for a VA loan went smoothly. But the loan servicing by this so-called bank is a complete disaster. I set up our loan for automatic payments using their clunky website. Unlike other banks with which I do business, the NASB website is not intuitive and does not provide confirmation for your entries. For the first 10 months, payments were automatically debited from my external account as scheduled. However, when the escrow amount changed, NASB debited the old amount from my account and sent a deficiency letter for the balance -- unlike every other bank I have used in which the amount of the debit was automatically debited. NASB sent me a \"credit counseling letter\" telling me that they did not apply any of the loan payment and would charge me a late payment over double the deficiency of $40 and change .... and suggested credit counseling services. When I called their servicing department, the representative told me the letter was sent in error and that everything had been adjusted so my account was showing that it was current. Two weeks later, I received a total of two voice mail messages and an e-mail in a span of 20 minutes from NASB's default department. The woman with whom I first spoke was rude, said she showed no record of my earlier call, it was my problem, and then hung up on me. The second agent, a man in their default department, said that he did not show that I had made any automatic payments and that NASB's system was not set up to adjust anything. After having over 25 years of mortgage payments with various banks, I have never experienced such incompetence and rude service. I specifically instructed the last agent to request that they sell servicing of our loan to another bank that is capable of actually performing customer service for a veteran \n",
      "******************************************************\n",
      "4\n",
      "Miserable experience. They screwed up everything imaginable and never accepted responsibility for any of their errors. I wouldnt recommend them for the purchase of a doghouse much less purchasing a new home.\n",
      "******************************************************\n",
      "5\n",
      "This Lender contacted my previous phone number which I did not list when registering with this site. Very unprofessional, and very disturbing.\n",
      "******************************************************\n"
     ]
    }
   ],
   "source": [
    "i=1\n",
    "for review in negative_reviews[:5]:\n",
    "        print(i)\n",
    "        print(review['Review'])\n",
    "        print('******************************************************')\n",
    "        i+=1"
   ]
  },
  {
   "cell_type": "markdown",
   "metadata": {},
   "source": [
    "**Creating the corpus**"
   ]
  },
  {
   "cell_type": "code",
   "execution_count": 26,
   "metadata": {},
   "outputs": [],
   "source": [
    "import re\n",
    "corpus = []\n",
    "for i in range(0, len(x)):\n",
    "    review = re.sub(r'\\W', ' ', str(x[i]))\n",
    "    review = review.lower()\n",
    "    review = re.sub(r'^br$', ' ', review)\n",
    "    review = re.sub(r'\\s+[a-z]\\s+', ' ',review)\n",
    "    review = re.sub(r'^[a-z]\\s+', '', review)\n",
    "    review = re.sub(r'\\s+', ' ', review)\n",
    "    corpus.append(review)"
   ]
  },
  {
   "cell_type": "code",
   "execution_count": 27,
   "metadata": {},
   "outputs": [
    {
     "data": {
      "text/plain": [
       "'Great job, Wyndham Capital! Each person was professional and helped us move through our refinance process smoothly. Thank you!'"
      ]
     },
     "execution_count": 27,
     "metadata": {},
     "output_type": "execute_result"
    }
   ],
   "source": [
    "x[0]"
   ]
  },
  {
   "cell_type": "code",
   "execution_count": 28,
   "metadata": {},
   "outputs": [
    {
     "data": {
      "text/plain": [
       "'great job wyndham capital each person was professional and helped us move through our refinance process smoothly thank you '"
      ]
     },
     "execution_count": 28,
     "metadata": {},
     "output_type": "execute_result"
    }
   ],
   "source": [
    "corpus[0]"
   ]
  },
  {
   "cell_type": "code",
   "execution_count": 29,
   "metadata": {},
   "outputs": [],
   "source": [
    "from nltk.stem import WordNetLemmatizer\n",
    "# sentences = nltk.sent_tokenize(paragraph)\n",
    "lemmatizer = WordNetLemmatizer()\n",
    "\n",
    "# Lemmatization\n",
    "for i in range(len(corpus)):\n",
    "    words = nltk.word_tokenize(corpus[i])\n",
    "    words = [lemmatizer.lemmatize(word) for word in words]\n",
    "    corpus[i] = ' '.join(words)"
   ]
  },
  {
   "cell_type": "code",
   "execution_count": 32,
   "metadata": {},
   "outputs": [],
   "source": [
    "tokens_vect = CountVectorizer(stop_words='english')"
   ]
  },
  {
   "cell_type": "code",
   "execution_count": 36,
   "metadata": {},
   "outputs": [],
   "source": [
    "token_dtm = tokens_vect.fit_transform(corpus)"
   ]
  },
  {
   "cell_type": "code",
   "execution_count": 44,
   "metadata": {},
   "outputs": [
    {
     "data": {
      "text/plain": [
       "['agent',\n",
       " 'aggravating',\n",
       " 'aggravation',\n",
       " 'ago',\n",
       " 'agree',\n",
       " 'agreed',\n",
       " 'agreement',\n",
       " 'ahead',\n",
       " 'airfare',\n",
       " 'airline',\n",
       " 'alerted',\n",
       " 'alex',\n",
       " 'alievatied',\n",
       " 'alina',\n",
       " 'allow',\n",
       " 'allowed',\n",
       " 'alpine',\n",
       " 'altho',\n",
       " 'alves',\n",
       " 'amazing',\n",
       " 'amd',\n",
       " 'american',\n",
       " 'amerisave',\n",
       " 'amortgage',\n",
       " 'andd',\n",
       " 'anderson',\n",
       " 'andrea',\n",
       " 'andrew',\n",
       " 'andy',\n",
       " 'angelica']"
      ]
     },
     "execution_count": 44,
     "metadata": {},
     "output_type": "execute_result"
    }
   ],
   "source": [
    "tokens_vect.get_feature_names()[100:130]"
   ]
  },
  {
   "cell_type": "code",
   "execution_count": 45,
   "metadata": {},
   "outputs": [
    {
     "data": {
      "text/plain": [
       "array([[0, 0, 0, ..., 0, 0, 0],\n",
       "       [0, 0, 0, ..., 0, 0, 0],\n",
       "       [0, 0, 0, ..., 0, 0, 0],\n",
       "       ...,\n",
       "       [0, 0, 0, ..., 0, 0, 0],\n",
       "       [0, 0, 0, ..., 0, 0, 0],\n",
       "       [0, 1, 0, ..., 0, 0, 0]], dtype=int64)"
      ]
     },
     "execution_count": 45,
     "metadata": {},
     "output_type": "execute_result"
    }
   ],
   "source": [
    "token_dtm.toarray()"
   ]
  },
  {
   "cell_type": "code",
   "execution_count": 46,
   "metadata": {},
   "outputs": [
    {
     "data": {
      "text/plain": [
       "(505, 2249)"
      ]
     },
     "execution_count": 46,
     "metadata": {},
     "output_type": "execute_result"
    }
   ],
   "source": [
    "token_dtm.toarray().shape"
   ]
  },
  {
   "cell_type": "code",
   "execution_count": 47,
   "metadata": {},
   "outputs": [
    {
     "data": {
      "text/plain": [
       "2249"
      ]
     },
     "execution_count": 47,
     "metadata": {},
     "output_type": "execute_result"
    }
   ],
   "source": [
    "len(tokens_vect.get_feature_names())"
   ]
  },
  {
   "cell_type": "markdown",
   "metadata": {},
   "source": [
    "**creating a dataframe which shows the count of how many times a word is coming in the corpus**"
   ]
  },
  {
   "cell_type": "code",
   "execution_count": 48,
   "metadata": {},
   "outputs": [],
   "source": [
    "count_dtm_dataframe = pd.DataFrame(np.sum(token_dtm.toarray(),axis=0),tokens_vect.get_feature_names()).reset_index()\n",
    "count_dtm_dataframe.columns =['Word','Count']"
   ]
  },
  {
   "cell_type": "code",
   "execution_count": 49,
   "metadata": {},
   "outputs": [
    {
     "data": {
      "text/html": [
       "<div>\n",
       "<style scoped>\n",
       "    .dataframe tbody tr th:only-of-type {\n",
       "        vertical-align: middle;\n",
       "    }\n",
       "\n",
       "    .dataframe tbody tr th {\n",
       "        vertical-align: top;\n",
       "    }\n",
       "\n",
       "    .dataframe thead th {\n",
       "        text-align: right;\n",
       "    }\n",
       "</style>\n",
       "<table border=\"1\" class=\"dataframe\">\n",
       "  <thead>\n",
       "    <tr style=\"text-align: right;\">\n",
       "      <th></th>\n",
       "      <th>Word</th>\n",
       "      <th>Count</th>\n",
       "    </tr>\n",
       "  </thead>\n",
       "  <tbody>\n",
       "    <tr>\n",
       "      <td>0</td>\n",
       "      <td>000</td>\n",
       "      <td>1</td>\n",
       "    </tr>\n",
       "    <tr>\n",
       "      <td>1</td>\n",
       "      <td>10</td>\n",
       "      <td>13</td>\n",
       "    </tr>\n",
       "    <tr>\n",
       "      <td>2</td>\n",
       "      <td>100</td>\n",
       "      <td>9</td>\n",
       "    </tr>\n",
       "    <tr>\n",
       "      <td>3</td>\n",
       "      <td>101</td>\n",
       "      <td>1</td>\n",
       "    </tr>\n",
       "    <tr>\n",
       "      <td>4</td>\n",
       "      <td>1031</td>\n",
       "      <td>2</td>\n",
       "    </tr>\n",
       "  </tbody>\n",
       "</table>\n",
       "</div>"
      ],
      "text/plain": [
       "   Word  Count\n",
       "0   000      1\n",
       "1    10     13\n",
       "2   100      9\n",
       "3   101      1\n",
       "4  1031      2"
      ]
     },
     "execution_count": 49,
     "metadata": {},
     "output_type": "execute_result"
    }
   ],
   "source": [
    "count_dtm_dataframe.head()"
   ]
  },
  {
   "cell_type": "code",
   "execution_count": 50,
   "metadata": {},
   "outputs": [],
   "source": [
    "#adding sentiment column which shows sentiment polarity of each word\n",
    "sentiment_word = []\n",
    "for word in count_dtm_dataframe['Word']:\n",
    "    sentiment_word.append(sentiment_review(word))\n",
    "count_dtm_dataframe['Sentiment'] = sentiment_word"
   ]
  },
  {
   "cell_type": "code",
   "execution_count": 51,
   "metadata": {},
   "outputs": [
    {
     "data": {
      "text/html": [
       "<div>\n",
       "<style scoped>\n",
       "    .dataframe tbody tr th:only-of-type {\n",
       "        vertical-align: middle;\n",
       "    }\n",
       "\n",
       "    .dataframe tbody tr th {\n",
       "        vertical-align: top;\n",
       "    }\n",
       "\n",
       "    .dataframe thead th {\n",
       "        text-align: right;\n",
       "    }\n",
       "</style>\n",
       "<table border=\"1\" class=\"dataframe\">\n",
       "  <thead>\n",
       "    <tr style=\"text-align: right;\">\n",
       "      <th></th>\n",
       "      <th>Word</th>\n",
       "      <th>Count</th>\n",
       "      <th>Sentiment</th>\n",
       "    </tr>\n",
       "  </thead>\n",
       "  <tbody>\n",
       "    <tr>\n",
       "      <td>0</td>\n",
       "      <td>000</td>\n",
       "      <td>1</td>\n",
       "      <td>Neutral</td>\n",
       "    </tr>\n",
       "    <tr>\n",
       "      <td>1</td>\n",
       "      <td>10</td>\n",
       "      <td>13</td>\n",
       "      <td>Neutral</td>\n",
       "    </tr>\n",
       "    <tr>\n",
       "      <td>2</td>\n",
       "      <td>100</td>\n",
       "      <td>9</td>\n",
       "      <td>Neutral</td>\n",
       "    </tr>\n",
       "    <tr>\n",
       "      <td>3</td>\n",
       "      <td>101</td>\n",
       "      <td>1</td>\n",
       "      <td>Neutral</td>\n",
       "    </tr>\n",
       "    <tr>\n",
       "      <td>4</td>\n",
       "      <td>1031</td>\n",
       "      <td>2</td>\n",
       "      <td>Neutral</td>\n",
       "    </tr>\n",
       "  </tbody>\n",
       "</table>\n",
       "</div>"
      ],
      "text/plain": [
       "   Word  Count Sentiment\n",
       "0   000      1   Neutral\n",
       "1    10     13   Neutral\n",
       "2   100      9   Neutral\n",
       "3   101      1   Neutral\n",
       "4  1031      2   Neutral"
      ]
     },
     "execution_count": 51,
     "metadata": {},
     "output_type": "execute_result"
    }
   ],
   "source": [
    "count_dtm_dataframe.head()"
   ]
  },
  {
   "cell_type": "code",
   "execution_count": 52,
   "metadata": {},
   "outputs": [],
   "source": [
    "# separating positive words\n",
    "positive_words_df= count_dtm_dataframe.loc[count_dtm_dataframe['Sentiment']=='Positive',:].sort_values('Count',ascending=False)"
   ]
  },
  {
   "cell_type": "code",
   "execution_count": 54,
   "metadata": {},
   "outputs": [
    {
     "data": {
      "text/html": [
       "<div>\n",
       "<style scoped>\n",
       "    .dataframe tbody tr th:only-of-type {\n",
       "        vertical-align: middle;\n",
       "    }\n",
       "\n",
       "    .dataframe tbody tr th {\n",
       "        vertical-align: top;\n",
       "    }\n",
       "\n",
       "    .dataframe thead th {\n",
       "        text-align: right;\n",
       "    }\n",
       "</style>\n",
       "<table border=\"1\" class=\"dataframe\">\n",
       "  <thead>\n",
       "    <tr style=\"text-align: right;\">\n",
       "      <th></th>\n",
       "      <th>Word</th>\n",
       "      <th>Count</th>\n",
       "      <th>Sentiment</th>\n",
       "    </tr>\n",
       "  </thead>\n",
       "  <tbody>\n",
       "    <tr>\n",
       "      <td>918</td>\n",
       "      <td>great</td>\n",
       "      <td>139</td>\n",
       "      <td>Positive</td>\n",
       "    </tr>\n",
       "    <tr>\n",
       "      <td>255</td>\n",
       "      <td>best</td>\n",
       "      <td>100</td>\n",
       "      <td>Positive</td>\n",
       "    </tr>\n",
       "    <tr>\n",
       "      <td>1564</td>\n",
       "      <td>professional</td>\n",
       "      <td>71</td>\n",
       "      <td>Positive</td>\n",
       "    </tr>\n",
       "    <tr>\n",
       "      <td>984</td>\n",
       "      <td>highly</td>\n",
       "      <td>65</td>\n",
       "      <td>Positive</td>\n",
       "    </tr>\n",
       "    <tr>\n",
       "      <td>668</td>\n",
       "      <td>easy</td>\n",
       "      <td>65</td>\n",
       "      <td>Positive</td>\n",
       "    </tr>\n",
       "  </tbody>\n",
       "</table>\n",
       "</div>"
      ],
      "text/plain": [
       "              Word  Count Sentiment\n",
       "918          great    139  Positive\n",
       "255           best    100  Positive\n",
       "1564  professional     71  Positive\n",
       "984         highly     65  Positive\n",
       "668           easy     65  Positive"
      ]
     },
     "execution_count": 54,
     "metadata": {},
     "output_type": "execute_result"
    }
   ],
   "source": [
    "positive_words_df.head(5)"
   ]
  },
  {
   "cell_type": "markdown",
   "metadata": {},
   "source": [
    "**plotting word cloud of 10 most frequently used positive words**"
   ]
  },
  {
   "cell_type": "code",
   "execution_count": 55,
   "metadata": {},
   "outputs": [
    {
     "data": {
      "image/png": "[encoded data removed]",
      "text/plain": [
       "<Figure size 576x576 with 1 Axes>"
      ]
     },
     "metadata": {
      "needs_background": "light"
     },
     "output_type": "display_data"
    }
   ],
   "source": [
    "wordcloud = WordCloud(width = 1000, height = 500).generate(' '.join(positive_words_df.iloc[0:11,0]))\n",
    "# plot the WordCloud image                        \n",
    "plt.figure(figsize = (8, 8), facecolor = None) \n",
    "plt.imshow(wordcloud) \n",
    "plt.axis(\"off\") \n",
    "plt.tight_layout(pad = 0) \n",
    "  \n",
    "plt.show()"
   ]
  },
  {
   "cell_type": "markdown",
   "metadata": {},
   "source": [
    "**separating negative words**"
   ]
  },
  {
   "cell_type": "code",
   "execution_count": 56,
   "metadata": {},
   "outputs": [],
   "source": [
    "negative_words_df= count_dtm_dataframe.loc[count_dtm_dataframe['Sentiment']=='Negative',:].sort_values('Count',ascending=False)"
   ]
  },
  {
   "cell_type": "code",
   "execution_count": 57,
   "metadata": {},
   "outputs": [
    {
     "data": {
      "text/html": [
       "<div>\n",
       "<style scoped>\n",
       "    .dataframe tbody tr th:only-of-type {\n",
       "        vertical-align: middle;\n",
       "    }\n",
       "\n",
       "    .dataframe tbody tr th {\n",
       "        vertical-align: top;\n",
       "    }\n",
       "\n",
       "    .dataframe thead th {\n",
       "        text-align: right;\n",
       "    }\n",
       "</style>\n",
       "<table border=\"1\" class=\"dataframe\">\n",
       "  <thead>\n",
       "    <tr style=\"text-align: right;\">\n",
       "      <th></th>\n",
       "      <th>Word</th>\n",
       "      <th>Count</th>\n",
       "      <th>Sentiment</th>\n",
       "    </tr>\n",
       "  </thead>\n",
       "  <tbody>\n",
       "    <tr>\n",
       "      <td>395</td>\n",
       "      <td>closed</td>\n",
       "      <td>70</td>\n",
       "      <td>Negative</td>\n",
       "    </tr>\n",
       "    <tr>\n",
       "      <td>771</td>\n",
       "      <td>extremely</td>\n",
       "      <td>46</td>\n",
       "      <td>Negative</td>\n",
       "    </tr>\n",
       "    <tr>\n",
       "      <td>954</td>\n",
       "      <td>hard</td>\n",
       "      <td>42</td>\n",
       "      <td>Negative</td>\n",
       "    </tr>\n",
       "    <tr>\n",
       "      <td>1516</td>\n",
       "      <td>poor</td>\n",
       "      <td>32</td>\n",
       "      <td>Negative</td>\n",
       "    </tr>\n",
       "    <tr>\n",
       "      <td>438</td>\n",
       "      <td>complicated</td>\n",
       "      <td>18</td>\n",
       "      <td>Negative</td>\n",
       "    </tr>\n",
       "  </tbody>\n",
       "</table>\n",
       "</div>"
      ],
      "text/plain": [
       "             Word  Count Sentiment\n",
       "395        closed     70  Negative\n",
       "771     extremely     46  Negative\n",
       "954          hard     42  Negative\n",
       "1516         poor     32  Negative\n",
       "438   complicated     18  Negative"
      ]
     },
     "execution_count": 57,
     "metadata": {},
     "output_type": "execute_result"
    }
   ],
   "source": [
    "negative_words_df.head(5)"
   ]
  },
  {
   "cell_type": "markdown",
   "metadata": {},
   "source": [
    "**plotting word cloud of 10 most frequently used negative words**"
   ]
  },
  {
   "cell_type": "code",
   "execution_count": 58,
   "metadata": {},
   "outputs": [
    {
     "data": {
      "image/png": "[encoded data removed]",
      "text/plain": [
       "<Figure size 576x576 with 1 Axes>"
      ]
     },
     "metadata": {
      "needs_background": "light"
     },
     "output_type": "display_data"
    }
   ],
   "source": [
    "wordcloud = WordCloud(width = 1000, height = 500).generate(' '.join(negative_words_df.iloc[0:11,0]))\n",
    "# plot the WordCloud image                        \n",
    "plt.figure(figsize = (8, 8), facecolor = None) \n",
    "plt.imshow(wordcloud) \n",
    "plt.axis(\"off\") \n",
    "plt.tight_layout(pad = 0) \n",
    "  \n",
    "plt.show()"
   ]
  },
  {
   "cell_type": "markdown",
   "metadata": {},
   "source": [
    "## Topic Modelling"
   ]
  },
  {
   "cell_type": "markdown",
   "metadata": {},
   "source": [
    "**Splitting the data into train and test**"
   ]
  },
  {
   "cell_type": "code",
   "execution_count": 59,
   "metadata": {},
   "outputs": [],
   "source": [
    "train_x,test_x,train_y,test_y = train_test_split(x,y,random_state = 123, test_size = 0.2) "
   ]
  },
  {
   "cell_type": "code",
   "execution_count": 60,
   "metadata": {},
   "outputs": [
    {
     "name": "stdout",
     "output_type": "stream",
     "text": [
      "No.of observations in train_x:  404 | No.of observations in test_x:  101\n",
      "No.of observations in train_y:  404 | No.of observations in test_y:  101\n"
     ]
    }
   ],
   "source": [
    "print('No.of observations in train_x: ',len(train_x), '| No.of observations in test_x: ',len(test_x))\n",
    "print('No.of observations in train_y: ',len(train_y), '| No.of observations in test_y: ',len(test_y))"
   ]
  },
  {
   "cell_type": "markdown",
   "metadata": {},
   "source": [
    "### Feature generation using TDM"
   ]
  },
  {
   "cell_type": "code",
   "execution_count": 69,
   "metadata": {},
   "outputs": [],
   "source": [
    "vect_tdm = TfidfVectorizer(strip_accents='unicode', stop_words='english', ngram_range=(1,1),min_df=0.001,max_df=0.95)"
   ]
  },
  {
   "cell_type": "code",
   "execution_count": 70,
   "metadata": {},
   "outputs": [],
   "source": [
    "train_x_tdm = vect_tdm.fit_transform(train_x)\n",
    "test_x_tdm = vect.transform(test_x)"
   ]
  },
  {
   "cell_type": "code",
   "execution_count": 71,
   "metadata": {},
   "outputs": [
    {
     "name": "stdout",
     "output_type": "stream",
     "text": [
      "No.of features for are 2265\n"
     ]
    }
   ],
   "source": [
    "print('No.of features for are',len(vect_tdm.get_feature_names()))"
   ]
  },
  {
   "cell_type": "code",
   "execution_count": 72,
   "metadata": {},
   "outputs": [],
   "source": [
    "# creating dataframe to to see which features are present in the documents\n",
    "train_x_tdm_df = pd.DataFrame(train_x_tdm.toarray(),columns=vect_tdm.get_feature_names())"
   ]
  },
  {
   "cell_type": "code",
   "execution_count": 74,
   "metadata": {},
   "outputs": [
    {
     "data": {
      "text/html": [
       "<div>\n",
       "<style scoped>\n",
       "    .dataframe tbody tr th:only-of-type {\n",
       "        vertical-align: middle;\n",
       "    }\n",
       "\n",
       "    .dataframe tbody tr th {\n",
       "        vertical-align: top;\n",
       "    }\n",
       "\n",
       "    .dataframe thead th {\n",
       "        text-align: right;\n",
       "    }\n",
       "</style>\n",
       "<table border=\"1\" class=\"dataframe\">\n",
       "  <thead>\n",
       "    <tr style=\"text-align: right;\">\n",
       "      <th></th>\n",
       "      <th>10</th>\n",
       "      <th>100</th>\n",
       "      <th>101</th>\n",
       "      <th>1031</th>\n",
       "      <th>1040s</th>\n",
       "      <th>11</th>\n",
       "      <th>12</th>\n",
       "      <th>13</th>\n",
       "      <th>14</th>\n",
       "      <th>15</th>\n",
       "      <th>...</th>\n",
       "      <th>wyndum</th>\n",
       "      <th>xx</th>\n",
       "      <th>year</th>\n",
       "      <th>years</th>\n",
       "      <th>yelp</th>\n",
       "      <th>yep</th>\n",
       "      <th>yes</th>\n",
       "      <th>zach</th>\n",
       "      <th>zelada</th>\n",
       "      <th>zero</th>\n",
       "    </tr>\n",
       "  </thead>\n",
       "  <tbody>\n",
       "    <tr>\n",
       "      <td>0</td>\n",
       "      <td>0.0</td>\n",
       "      <td>0.0</td>\n",
       "      <td>0.0</td>\n",
       "      <td>0.0</td>\n",
       "      <td>0.0</td>\n",
       "      <td>0.0</td>\n",
       "      <td>0.0</td>\n",
       "      <td>0.0</td>\n",
       "      <td>0.0</td>\n",
       "      <td>0.0</td>\n",
       "      <td>...</td>\n",
       "      <td>0.0</td>\n",
       "      <td>0.0</td>\n",
       "      <td>0.0</td>\n",
       "      <td>0.0</td>\n",
       "      <td>0.0</td>\n",
       "      <td>0.0</td>\n",
       "      <td>0.0</td>\n",
       "      <td>0.0</td>\n",
       "      <td>0.0</td>\n",
       "      <td>0.0</td>\n",
       "    </tr>\n",
       "    <tr>\n",
       "      <td>1</td>\n",
       "      <td>0.0</td>\n",
       "      <td>0.0</td>\n",
       "      <td>0.0</td>\n",
       "      <td>0.0</td>\n",
       "      <td>0.0</td>\n",
       "      <td>0.0</td>\n",
       "      <td>0.0</td>\n",
       "      <td>0.0</td>\n",
       "      <td>0.0</td>\n",
       "      <td>0.0</td>\n",
       "      <td>...</td>\n",
       "      <td>0.0</td>\n",
       "      <td>0.0</td>\n",
       "      <td>0.0</td>\n",
       "      <td>0.0</td>\n",
       "      <td>0.0</td>\n",
       "      <td>0.0</td>\n",
       "      <td>0.0</td>\n",
       "      <td>0.0</td>\n",
       "      <td>0.0</td>\n",
       "      <td>0.0</td>\n",
       "    </tr>\n",
       "    <tr>\n",
       "      <td>2</td>\n",
       "      <td>0.0</td>\n",
       "      <td>0.0</td>\n",
       "      <td>0.0</td>\n",
       "      <td>0.0</td>\n",
       "      <td>0.0</td>\n",
       "      <td>0.0</td>\n",
       "      <td>0.0</td>\n",
       "      <td>0.0</td>\n",
       "      <td>0.0</td>\n",
       "      <td>0.0</td>\n",
       "      <td>...</td>\n",
       "      <td>0.0</td>\n",
       "      <td>0.0</td>\n",
       "      <td>0.0</td>\n",
       "      <td>0.0</td>\n",
       "      <td>0.0</td>\n",
       "      <td>0.0</td>\n",
       "      <td>0.0</td>\n",
       "      <td>0.0</td>\n",
       "      <td>0.0</td>\n",
       "      <td>0.0</td>\n",
       "    </tr>\n",
       "    <tr>\n",
       "      <td>3</td>\n",
       "      <td>0.0</td>\n",
       "      <td>0.0</td>\n",
       "      <td>0.0</td>\n",
       "      <td>0.0</td>\n",
       "      <td>0.0</td>\n",
       "      <td>0.0</td>\n",
       "      <td>0.0</td>\n",
       "      <td>0.0</td>\n",
       "      <td>0.0</td>\n",
       "      <td>0.0</td>\n",
       "      <td>...</td>\n",
       "      <td>0.0</td>\n",
       "      <td>0.0</td>\n",
       "      <td>0.0</td>\n",
       "      <td>0.0</td>\n",
       "      <td>0.0</td>\n",
       "      <td>0.0</td>\n",
       "      <td>0.0</td>\n",
       "      <td>0.0</td>\n",
       "      <td>0.0</td>\n",
       "      <td>0.0</td>\n",
       "    </tr>\n",
       "    <tr>\n",
       "      <td>4</td>\n",
       "      <td>0.0</td>\n",
       "      <td>0.0</td>\n",
       "      <td>0.0</td>\n",
       "      <td>0.0</td>\n",
       "      <td>0.0</td>\n",
       "      <td>0.0</td>\n",
       "      <td>0.0</td>\n",
       "      <td>0.0</td>\n",
       "      <td>0.0</td>\n",
       "      <td>0.0</td>\n",
       "      <td>...</td>\n",
       "      <td>0.0</td>\n",
       "      <td>0.0</td>\n",
       "      <td>0.0</td>\n",
       "      <td>0.0</td>\n",
       "      <td>0.0</td>\n",
       "      <td>0.0</td>\n",
       "      <td>0.0</td>\n",
       "      <td>0.0</td>\n",
       "      <td>0.0</td>\n",
       "      <td>0.0</td>\n",
       "    </tr>\n",
       "  </tbody>\n",
       "</table>\n",
       "<p>5 rows × 2265 columns</p>\n",
       "</div>"
      ],
      "text/plain": [
       "    10  100  101  1031  1040s   11   12   13   14   15  ...  wyndum   xx  \\\n",
       "0  0.0  0.0  0.0   0.0    0.0  0.0  0.0  0.0  0.0  0.0  ...     0.0  0.0   \n",
       "1  0.0  0.0  0.0   0.0    0.0  0.0  0.0  0.0  0.0  0.0  ...     0.0  0.0   \n",
       "2  0.0  0.0  0.0   0.0    0.0  0.0  0.0  0.0  0.0  0.0  ...     0.0  0.0   \n",
       "3  0.0  0.0  0.0   0.0    0.0  0.0  0.0  0.0  0.0  0.0  ...     0.0  0.0   \n",
       "4  0.0  0.0  0.0   0.0    0.0  0.0  0.0  0.0  0.0  0.0  ...     0.0  0.0   \n",
       "\n",
       "   year  years  yelp  yep  yes  zach  zelada  zero  \n",
       "0   0.0    0.0   0.0  0.0  0.0   0.0     0.0   0.0  \n",
       "1   0.0    0.0   0.0  0.0  0.0   0.0     0.0   0.0  \n",
       "2   0.0    0.0   0.0  0.0  0.0   0.0     0.0   0.0  \n",
       "3   0.0    0.0   0.0  0.0  0.0   0.0     0.0   0.0  \n",
       "4   0.0    0.0   0.0  0.0  0.0   0.0     0.0   0.0  \n",
       "\n",
       "[5 rows x 2265 columns]"
      ]
     },
     "execution_count": 74,
     "metadata": {},
     "output_type": "execute_result"
    }
   ],
   "source": [
    "train_x_tdm_df.head()"
   ]
  },
  {
   "cell_type": "markdown",
   "metadata": {},
   "source": [
    "#### Train a LDA Model"
   ]
  },
  {
   "cell_type": "code",
   "execution_count": 75,
   "metadata": {},
   "outputs": [],
   "source": [
    "lda_model = LatentDirichletAllocation(n_components=20, learning_method='online', max_iter=50)\n",
    "x_topics = lda_model.fit_transform(train_x_tdm)\n",
    "topic_word = lda_model.components_ \n",
    "vocab = vect.get_feature_names()"
   ]
  },
  {
   "cell_type": "markdown",
   "metadata": {},
   "source": [
    "**view the topic models**"
   ]
  },
  {
   "cell_type": "code",
   "execution_count": 76,
   "metadata": {},
   "outputs": [
    {
     "name": "stdout",
     "output_type": "stream",
     "text": [
      "['money' 'wyndham' 'refer' 'company' 'loan' 'needs' 'informed' 'level'\n",
      " 'service' 'assessment']\n",
      "['just' 'rep' 'closing' 'disappeared' 'sensed' 'thankfully' 'failed'\n",
      " 'plenty' 'firm' 'tons']\n",
      "['anthony' 'receptive' 'thorough' 'marroquin' 'quick' 'efficient' 'close'\n",
      " 'effective' 'fi' 'solution']\n",
      "['bad' 'job' 'represents' 'gets' 'teddy' 'communicative' 'patient' 'hard'\n",
      " 'company' 'working']\n",
      "['listening' 'astronomical' 'interrupting' 'salesman' 'altho' 'info'\n",
      " 'pushy' 'quite' 'telling' 'line']\n",
      "['interested' 'attorney' 'increase' 'legal' 'looked' 'cos' 'employees'\n",
      " 'amerisave' 'meant' 'clicking']\n",
      "['hartegan' 'brought' 'congratulations' 'hand' 'sending' 'written'\n",
      " 'aspects' 'effective' 'touch' 'skills']\n",
      "['corrections' 'documents' 'surprises' 'send' 'responsive' 'informative'\n",
      " 'process' 'filed' 'wyndum' 'continue']\n",
      "['speed' 'goodlet' 'satisfied' 'competitive' 'preferred' 'officers'\n",
      " 'methods' 'proffessionalism' 'speaking' 'won']\n",
      "['bank' 'donna' 'irs' 'documentation' 'weeks' 'sent' 'later' 'tax' 'make'\n",
      " 'times']\n",
      "['penny' 'fit' 'incredibly' 'gladly' 'rowel' 'responsive' 'encountered'\n",
      " 'issues' 'recommend' 'services']\n",
      "['regular' 'basis' 'land' 'undivided' 'gave' 'huge' 'attention' 'dean'\n",
      " 'dream' 'took']\n",
      "['jeremy' 'local' 'exceeded' 'expectations' 'officer' 'best' 'loan'\n",
      " 'company' 'hesitant' 'previously']\n",
      "['alex' 'based' 'options' 'said' 'jocovic' 'zero' 'using' 'pull'\n",
      " 'outstanding' 'info']\n",
      "['bryant' 'instantly' 'discuss' 'authenticity' 'small' 'homes' 'military'\n",
      " 'world' 'properly' 'preference']\n",
      "['process' 'great' 'loan' 'home' 'time' 'recommend' 'service' 'work'\n",
      " 'questions' 'team']\n",
      "['spring' 'humanly' 'possibly' 'concern' 'individual' 'hitch' 'seeing'\n",
      " 'caring' 'listened' 'aspects']\n",
      "['jon' 'accommodating' 'progress' 'loan' 'date' 'professional' 'kept'\n",
      " 'asset' 'mortgage' 'passing']\n",
      "['real' 'bank' 'walks' 'values' 'traditional' 'fine' 'talk' 'people'\n",
      " 'pleasure' 'just']\n",
      "['tim' 'informational' 'agreement' 'beat' 'previous' 'list' 'followed'\n",
      " 'disturbing' 'registering' 'site']\n"
     ]
    }
   ],
   "source": [
    "top_words = 10\n",
    "topic_summaries = []\n",
    "for i, topic_dist in enumerate(topic_word):\n",
    "    topic_words = np.array(vocab)[np.argsort(topic_dist)][:-(top_words+1):-1]\n",
    "    topic_summaries.append(' '.join(topic_words))\n",
    "    print(topic_words)"
   ]
  },
  {
   "cell_type": "code",
   "execution_count": 77,
   "metadata": {},
   "outputs": [
    {
     "data": {
      "text/plain": [
       "['money wyndham refer company loan needs informed level service assessment',\n",
       " 'just rep closing disappeared sensed thankfully failed plenty firm tons',\n",
       " 'anthony receptive thorough marroquin quick efficient close effective fi solution',\n",
       " 'bad job represents gets teddy communicative patient hard company working',\n",
       " 'listening astronomical interrupting salesman altho info pushy quite telling line',\n",
       " 'interested attorney increase legal looked cos employees amerisave meant clicking',\n",
       " 'hartegan brought congratulations hand sending written aspects effective touch skills',\n",
       " 'corrections documents surprises send responsive informative process filed wyndum continue',\n",
       " 'speed goodlet satisfied competitive preferred officers methods proffessionalism speaking won',\n",
       " 'bank donna irs documentation weeks sent later tax make times',\n",
       " 'penny fit incredibly gladly rowel responsive encountered issues recommend services',\n",
       " 'regular basis land undivided gave huge attention dean dream took',\n",
       " 'jeremy local exceeded expectations officer best loan company hesitant previously',\n",
       " 'alex based options said jocovic zero using pull outstanding info',\n",
       " 'bryant instantly discuss authenticity small homes military world properly preference',\n",
       " 'process great loan home time recommend service work questions team',\n",
       " 'spring humanly possibly concern individual hitch seeing caring listened aspects',\n",
       " 'jon accommodating progress loan date professional kept asset mortgage passing',\n",
       " 'real bank walks values traditional fine talk people pleasure just',\n",
       " 'tim informational agreement beat previous list followed disturbing registering site']"
      ]
     },
     "execution_count": 77,
     "metadata": {},
     "output_type": "execute_result"
    }
   ],
   "source": [
    "# view the topic models\n",
    "top_words = 10\n",
    "topic_summaries = []\n",
    "for i, topic_dist in enumerate(topic_word):\n",
    "    topic_words = np.array(vocab)[np.argsort(topic_dist)][:-(top_words+1):-1]\n",
    "    topic_summaries.append(' '.join(topic_words))\n",
    "topic_summaries"
   ]
  },
  {
   "cell_type": "markdown",
   "metadata": {},
   "source": [
    "### Building Model on TDM"
   ]
  },
  {
   "cell_type": "code",
   "execution_count": 78,
   "metadata": {},
   "outputs": [
    {
     "data": {
      "text/plain": [
       "MultinomialNB(alpha=1.0, class_prior=None, fit_prior=True)"
      ]
     },
     "execution_count": 78,
     "metadata": {},
     "output_type": "execute_result"
    }
   ],
   "source": [
    "# building naive bayes model on TDM\n",
    "naive_model = MultinomialNB()\n",
    "naive_model.fit(train_x_tdm,train_y)"
   ]
  },
  {
   "cell_type": "code",
   "execution_count": 79,
   "metadata": {},
   "outputs": [],
   "source": [
    "predict_train = naive_model.predict(train_x_tdm)\n",
    "predict_test = naive_model.predict(test_x_tdm)"
   ]
  },
  {
   "cell_type": "code",
   "execution_count": 80,
   "metadata": {},
   "outputs": [
    {
     "name": "stdout",
     "output_type": "stream",
     "text": [
      "Accuracy on train:  0.9306930693069307\n",
      "Accuracy on test:  0.9207920792079208\n"
     ]
    }
   ],
   "source": [
    "print('Accuracy on train: ',metrics.accuracy_score(train_y,predict_train))\n",
    "print('Accuracy on test: ',metrics.accuracy_score(test_y,predict_test))"
   ]
  },
  {
   "cell_type": "code",
   "execution_count": 81,
   "metadata": {},
   "outputs": [],
   "source": [
    "# predict probabilities on train and test\n",
    "predict_prob_train = naive_model.predict_proba(train_x_tdm)[:,1]\n",
    "predict_prob_test = naive_model.predict_proba(test_x_tdm)[:,1]"
   ]
  },
  {
   "cell_type": "code",
   "execution_count": 82,
   "metadata": {},
   "outputs": [
    {
     "name": "stdout",
     "output_type": "stream",
     "text": [
      "ROC_AUC score on train:  0.9950355454942611\n",
      "ROC_AUC score on test:  0.9819277108433736\n"
     ]
    }
   ],
   "source": [
    "print('ROC_AUC score on train: ',metrics.roc_auc_score(train_y,predict_prob_train))\n",
    "print('ROC_AUC score on test: ',metrics.roc_auc_score(test_y,predict_prob_test))"
   ]
  },
  {
   "cell_type": "code",
   "execution_count": 83,
   "metadata": {},
   "outputs": [],
   "source": [
    "# confusion matrix on test \n",
    "cm_test = metrics.confusion_matrix(test_y,predict_test,[5,1])"
   ]
  },
  {
   "cell_type": "code",
   "execution_count": 84,
   "metadata": {},
   "outputs": [
    {
     "data": {
      "text/plain": [
       "array([[82,  1],\n",
       "       [ 7, 11]], dtype=int64)"
      ]
     },
     "execution_count": 84,
     "metadata": {},
     "output_type": "execute_result"
    }
   ],
   "source": [
    "cm_test"
   ]
  },
  {
   "cell_type": "code",
   "execution_count": 85,
   "metadata": {},
   "outputs": [
    {
     "data": {
      "image/png": "[encoded data removed]",
      "text/plain": [
       "<Figure size 432x288 with 2 Axes>"
      ]
     },
     "metadata": {
      "needs_background": "light"
     },
     "output_type": "display_data"
    }
   ],
   "source": [
    "sns.heatmap(cm_test,annot=True,xticklabels=[5,1],yticklabels=[5,1])\n",
    "plt.xlabel('Predicted')\n",
    "plt.ylabel('Actual')\n",
    "plt.show()"
   ]
  },
  {
   "cell_type": "markdown",
   "metadata": {},
   "source": [
    "**Predicting star ratings using reviews**"
   ]
  },
  {
   "cell_type": "markdown",
   "metadata": {},
   "source": [
    "### Creating the Tf-Idf model"
   ]
  },
  {
   "cell_type": "code",
   "execution_count": 87,
   "metadata": {},
   "outputs": [],
   "source": [
    "from nltk.corpus import stopwords\n",
    "from sklearn.feature_extraction.text import TfidfVectorizer\n",
    "vectorizer = TfidfVectorizer(max_features = 2000, min_df = 0.05, max_df = 0.8, stop_words = stopwords.words('english'))\n",
    "x = vectorizer.fit_transform(corpus).toarray()"
   ]
  },
  {
   "cell_type": "code",
   "execution_count": 88,
   "metadata": {},
   "outputs": [
    {
     "data": {
      "text/plain": [
       "array([[0.        , 0.        , 0.        , ..., 0.        , 0.        ,\n",
       "        0.        ],\n",
       "       [0.        , 0.        , 0.        , ..., 0.        , 0.        ,\n",
       "        0.        ],\n",
       "       [0.        , 0.        , 0.        , ..., 0.        , 0.33245169,\n",
       "        0.        ],\n",
       "       ...,\n",
       "       [0.        , 0.        , 0.        , ..., 0.        , 0.        ,\n",
       "        0.        ],\n",
       "       [0.        , 0.12340384, 0.        , ..., 0.        , 0.        ,\n",
       "        0.        ],\n",
       "       [0.        , 0.        , 0.        , ..., 0.1137738 , 0.08430181,\n",
       "        0.1272345 ]])"
      ]
     },
     "execution_count": 88,
     "metadata": {},
     "output_type": "execute_result"
    }
   ],
   "source": [
    "x"
   ]
  },
  {
   "cell_type": "code",
   "execution_count": 89,
   "metadata": {},
   "outputs": [
    {
     "data": {
      "text/plain": [
       "(505, 137)"
      ]
     },
     "execution_count": 89,
     "metadata": {},
     "output_type": "execute_result"
    }
   ],
   "source": [
    "x.shape"
   ]
  },
  {
   "cell_type": "markdown",
   "metadata": {},
   "source": [
    "### Apply Logistic regression"
   ]
  },
  {
   "cell_type": "code",
   "execution_count": 90,
   "metadata": {},
   "outputs": [],
   "source": [
    "from sklearn.model_selection import train_test_split\n",
    "\n",
    "train_x,test_x,train_y,test_y=train_test_split(x,\n",
    "                                              y,\n",
    "                                              test_size=.3,\n",
    "                                              random_state=42)"
   ]
  },
  {
   "cell_type": "code",
   "execution_count": 91,
   "metadata": {},
   "outputs": [
    {
     "data": {
      "text/plain": [
       "LogisticRegression(C=1.0, class_weight=None, dual=False, fit_intercept=True,\n",
       "                   intercept_scaling=1, l1_ratio=None, max_iter=100,\n",
       "                   multi_class='auto', n_jobs=None, penalty='l2',\n",
       "                   random_state=None, solver='lbfgs', tol=0.0001, verbose=0,\n",
       "                   warm_start=False)"
      ]
     },
     "execution_count": 91,
     "metadata": {},
     "output_type": "execute_result"
    }
   ],
   "source": [
    "from sklearn.linear_model import LogisticRegression\n",
    "\n",
    "logreg = LogisticRegression()\n",
    "logreg.fit( train_x, train_y )"
   ]
  },
  {
   "cell_type": "markdown",
   "metadata": {},
   "source": [
    "**Model Accuracy Evaluation**"
   ]
  },
  {
   "cell_type": "code",
   "execution_count": 92,
   "metadata": {},
   "outputs": [
    {
     "name": "stdout",
     "output_type": "stream",
     "text": [
      "test_accuracy:  0.881578947368421\n",
      "train_accuracy:  0.9178470254957507\n"
     ]
    }
   ],
   "source": [
    "#Evelution of train and test accuracy\n",
    "from sklearn import metrics\n",
    "test_accuracy=metrics.accuracy_score(test_y,logreg.predict(test_x))\n",
    "print('test_accuracy: ',test_accuracy)\n",
    "\n",
    "train_accuracy=metrics.accuracy_score(train_y,logreg.predict(train_x))\n",
    "print('train_accuracy: ',train_accuracy)"
   ]
  },
  {
   "cell_type": "code",
   "execution_count": 93,
   "metadata": {},
   "outputs": [
    {
     "data": {
      "text/plain": [
       "Text(0.5, 15.0, 'Predicted label')"
      ]
     },
     "execution_count": 93,
     "metadata": {},
     "output_type": "execute_result"
    },
    {
     "data": {
      "image/png": "[encoded data removed]",
      "text/plain": [
       "<Figure size 432x288 with 2 Axes>"
      ]
     },
     "metadata": {
      "needs_background": "light"
     },
     "output_type": "display_data"
    }
   ],
   "source": [
    "from sklearn import metrics\n",
    "\n",
    "cm = metrics.confusion_matrix(test_y,\n",
    "                            logreg.predict(test_x), [1,5] )\n",
    "cm\n",
    "\n",
    "import matplotlib.pyplot as plt\n",
    "import seaborn as sn\n",
    "%matplotlib inline\n",
    "\n",
    "sn.heatmap(cm, annot=True,  fmt='.2f', xticklabels = [\"1\", \"5\"] , yticklabels = [\"1\", \"5\"] )\n",
    "plt.ylabel('True label')\n",
    "plt.xlabel('Predicted label')"
   ]
  },
  {
   "cell_type": "code",
   "execution_count": 94,
   "metadata": {},
   "outputs": [
    {
     "data": {
      "text/plain": [
       "array([[ 16,  18],\n",
       "       [  0, 118]], dtype=int64)"
      ]
     },
     "execution_count": 94,
     "metadata": {},
     "output_type": "execute_result"
    }
   ],
   "source": [
    "cm"
   ]
  },
  {
   "cell_type": "markdown",
   "metadata": {},
   "source": [
    "***As we can see from confusion matrix our model is not over fitted***"
   ]
  },
  {
   "cell_type": "markdown",
   "metadata": {},
   "source": [
    "### Final Prediction"
   ]
  },
  {
   "cell_type": "code",
   "execution_count": 96,
   "metadata": {},
   "outputs": [],
   "source": [
    "# Dropping the irrelevant variables\n",
    "data.drop(['Date','BankName'],axis=1,inplace=True)"
   ]
  },
  {
   "cell_type": "code",
   "execution_count": 97,
   "metadata": {},
   "outputs": [
    {
     "data": {
      "text/html": [
       "<div>\n",
       "<style scoped>\n",
       "    .dataframe tbody tr th:only-of-type {\n",
       "        vertical-align: middle;\n",
       "    }\n",
       "\n",
       "    .dataframe tbody tr th {\n",
       "        vertical-align: top;\n",
       "    }\n",
       "\n",
       "    .dataframe thead th {\n",
       "        text-align: right;\n",
       "    }\n",
       "</style>\n",
       "<table border=\"1\" class=\"dataframe\">\n",
       "  <thead>\n",
       "    <tr style=\"text-align: right;\">\n",
       "      <th></th>\n",
       "      <th>Stars</th>\n",
       "      <th>Reviews</th>\n",
       "    </tr>\n",
       "  </thead>\n",
       "  <tbody>\n",
       "    <tr>\n",
       "      <td>0</td>\n",
       "      <td>5</td>\n",
       "      <td>Great job, Wyndham Capital! Each person was pr...</td>\n",
       "    </tr>\n",
       "    <tr>\n",
       "      <td>1</td>\n",
       "      <td>5</td>\n",
       "      <td>Matthew Richardson is professional and helpful...</td>\n",
       "    </tr>\n",
       "    <tr>\n",
       "      <td>2</td>\n",
       "      <td>5</td>\n",
       "      <td>We had a past experience with Wyndham Mortgage...</td>\n",
       "    </tr>\n",
       "  </tbody>\n",
       "</table>\n",
       "</div>"
      ],
      "text/plain": [
       "   Stars                                            Reviews\n",
       "0      5  Great job, Wyndham Capital! Each person was pr...\n",
       "1      5  Matthew Richardson is professional and helpful...\n",
       "2      5  We had a past experience with Wyndham Mortgage..."
      ]
     },
     "execution_count": 97,
     "metadata": {},
     "output_type": "execute_result"
    }
   ],
   "source": [
    "data.head(3)"
   ]
  },
  {
   "cell_type": "code",
   "execution_count": 98,
   "metadata": {},
   "outputs": [
    {
     "data": {
      "text/html": [
       "<div>\n",
       "<style scoped>\n",
       "    .dataframe tbody tr th:only-of-type {\n",
       "        vertical-align: middle;\n",
       "    }\n",
       "\n",
       "    .dataframe tbody tr th {\n",
       "        vertical-align: top;\n",
       "    }\n",
       "\n",
       "    .dataframe thead th {\n",
       "        text-align: right;\n",
       "    }\n",
       "</style>\n",
       "<table border=\"1\" class=\"dataframe\">\n",
       "  <thead>\n",
       "    <tr style=\"text-align: right;\">\n",
       "      <th></th>\n",
       "      <th>Stars</th>\n",
       "      <th>Reviews</th>\n",
       "      <th>predicted_stars</th>\n",
       "    </tr>\n",
       "  </thead>\n",
       "  <tbody>\n",
       "    <tr>\n",
       "      <td>0</td>\n",
       "      <td>5</td>\n",
       "      <td>Great job, Wyndham Capital! Each person was pr...</td>\n",
       "      <td>5</td>\n",
       "    </tr>\n",
       "    <tr>\n",
       "      <td>1</td>\n",
       "      <td>5</td>\n",
       "      <td>Matthew Richardson is professional and helpful...</td>\n",
       "      <td>5</td>\n",
       "    </tr>\n",
       "    <tr>\n",
       "      <td>2</td>\n",
       "      <td>5</td>\n",
       "      <td>We had a past experience with Wyndham Mortgage...</td>\n",
       "      <td>5</td>\n",
       "    </tr>\n",
       "    <tr>\n",
       "      <td>3</td>\n",
       "      <td>5</td>\n",
       "      <td>We have been dealing with Brad Thomka from the...</td>\n",
       "      <td>5</td>\n",
       "    </tr>\n",
       "    <tr>\n",
       "      <td>4</td>\n",
       "      <td>5</td>\n",
       "      <td>I can't express how grateful I am for the supp...</td>\n",
       "      <td>5</td>\n",
       "    </tr>\n",
       "    <tr>\n",
       "      <td>5</td>\n",
       "      <td>5</td>\n",
       "      <td>I had the pleasure of working with Wyndham Cap...</td>\n",
       "      <td>5</td>\n",
       "    </tr>\n",
       "    <tr>\n",
       "      <td>6</td>\n",
       "      <td>5</td>\n",
       "      <td>My experience with Mattison was beyond greatly...</td>\n",
       "      <td>5</td>\n",
       "    </tr>\n",
       "    <tr>\n",
       "      <td>7</td>\n",
       "      <td>5</td>\n",
       "      <td>Patrick answered all my questions by email imm...</td>\n",
       "      <td>5</td>\n",
       "    </tr>\n",
       "    <tr>\n",
       "      <td>8</td>\n",
       "      <td>5</td>\n",
       "      <td>I loved working with this group of people! The...</td>\n",
       "      <td>5</td>\n",
       "    </tr>\n",
       "    <tr>\n",
       "      <td>9</td>\n",
       "      <td>5</td>\n",
       "      <td>Great web interface for both the loan applicat...</td>\n",
       "      <td>5</td>\n",
       "    </tr>\n",
       "  </tbody>\n",
       "</table>\n",
       "</div>"
      ],
      "text/plain": [
       "   Stars                                            Reviews  predicted_stars\n",
       "0      5  Great job, Wyndham Capital! Each person was pr...                5\n",
       "1      5  Matthew Richardson is professional and helpful...                5\n",
       "2      5  We had a past experience with Wyndham Mortgage...                5\n",
       "3      5  We have been dealing with Brad Thomka from the...                5\n",
       "4      5  I can't express how grateful I am for the supp...                5\n",
       "5      5  I had the pleasure of working with Wyndham Cap...                5\n",
       "6      5  My experience with Mattison was beyond greatly...                5\n",
       "7      5  Patrick answered all my questions by email imm...                5\n",
       "8      5  I loved working with this group of people! The...                5\n",
       "9      5  Great web interface for both the loan applicat...                5"
      ]
     },
     "execution_count": 98,
     "metadata": {},
     "output_type": "execute_result"
    }
   ],
   "source": [
    "#Concatenating final prediction with original data set(all obersvations):\n",
    "\n",
    "pred_stars=pd.DataFrame(logreg.predict(x),columns=['predicted_stars'])\n",
    "  \n",
    "testfile = pd.concat([data, pred_stars], axis=1)\n",
    "\n",
    "testfile.head(10)"
   ]
  },
  {
   "cell_type": "markdown",
   "metadata": {},
   "source": [
    "### Final Submission in excel file"
   ]
  },
  {
   "cell_type": "code",
   "execution_count": 99,
   "metadata": {},
   "outputs": [],
   "source": [
    "#Exporting testfile to csv for final submission\n",
    "\n",
    "testfile.to_csv('Review_submission.csv',index=False)"
   ]
  },
  {
   "cell_type": "code",
   "execution_count": null,
   "metadata": {},
   "outputs": [],
   "source": []
  }
 ],
 "metadata": {
  "kernelspec": {
   "display_name": "Python 3",
   "language": "python",
   "name": "python3"
  },
  "language_info": {
   "codemirror_mode": {
    "name": "ipython",
    "version": 3
   },
   "file_extension": ".py",
   "mimetype": "text/x-python",
   "name": "python",
   "nbconvert_exporter": "python",
   "pygments_lexer": "ipython3",
   "version": "3.7.4"
  }
 },
 "nbformat": 4,
 "nbformat_minor": 2
}
